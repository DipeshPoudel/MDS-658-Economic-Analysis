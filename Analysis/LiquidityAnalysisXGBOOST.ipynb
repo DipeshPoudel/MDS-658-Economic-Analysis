{
 "cells": [
  {
   "cell_type": "code",
   "execution_count": 2,
   "id": "a194b962",
   "metadata": {},
   "outputs": [],
   "source": [
    "import pandas as pd\n",
    "import numpy as np\n",
    "import matplotlib.pyplot as plt\n",
    "import seaborn as sns\n",
    "from pandas.api.types import CategoricalDtype\n",
    "from statsmodels.tsa.seasonal import seasonal_decompose\n",
    "import warnings\n",
    "import statsmodels.api as sm\n",
    "from pmdarima import auto_arima\n",
    "from sklearn import metrics\n",
    "from statsmodels.tsa.seasonal import seasonal_decompose\n",
    "from statsmodels.tsa.stattools import adfuller\n",
    "warnings.filterwarnings(\"ignore\")\n",
    "from xgboost import XGBRegressor\n",
    "\n",
    "color_pal = sns.color_palette()\n",
    "plt.style.use('fivethirtyeight')"
   ]
  },
  {
   "cell_type": "code",
   "execution_count": 3,
   "id": "7a8eded3",
   "metadata": {},
   "outputs": [],
   "source": [
    "df = pd.read_excel('Liquidity-and-interbank-rate.xlsx',\n",
    "                   sheet_name='LiquiditySeries',\n",
    "                  skiprows=[0,1,3,4,5,2642]\n",
    "                  )"
   ]
  },
  {
   "cell_type": "code",
   "execution_count": 4,
   "id": "cf65fbd2",
   "metadata": {},
   "outputs": [
    {
     "data": {
      "text/html": [
       "<div>\n",
       "<style scoped>\n",
       "    .dataframe tbody tr th:only-of-type {\n",
       "        vertical-align: middle;\n",
       "    }\n",
       "\n",
       "    .dataframe tbody tr th {\n",
       "        vertical-align: top;\n",
       "    }\n",
       "\n",
       "    .dataframe thead th {\n",
       "        text-align: right;\n",
       "    }\n",
       "</style>\n",
       "<table border=\"1\" class=\"dataframe\">\n",
       "  <thead>\n",
       "    <tr style=\"text-align: right;\">\n",
       "      <th></th>\n",
       "      <th>Date (Nepali)</th>\n",
       "      <th>Date (English)</th>\n",
       "      <th>Balance at NRB minus CRR</th>\n",
       "      <th>Prime Rate</th>\n",
       "      <th>Secondary Rate</th>\n",
       "      <th>Overall Rate</th>\n",
       "    </tr>\n",
       "  </thead>\n",
       "  <tbody>\n",
       "    <tr>\n",
       "      <th>0</th>\n",
       "      <td>2069-03-29</td>\n",
       "      <td>2012-07-13</td>\n",
       "      <td>73959.271</td>\n",
       "      <td>NaN</td>\n",
       "      <td>NaN</td>\n",
       "      <td>NaN</td>\n",
       "    </tr>\n",
       "    <tr>\n",
       "      <th>1</th>\n",
       "      <td>2069-04-05</td>\n",
       "      <td>2012-07-20</td>\n",
       "      <td>88835.736</td>\n",
       "      <td>NaN</td>\n",
       "      <td>NaN</td>\n",
       "      <td>NaN</td>\n",
       "    </tr>\n",
       "    <tr>\n",
       "      <th>2</th>\n",
       "      <td>2069-04-12</td>\n",
       "      <td>2012-07-27</td>\n",
       "      <td>82056.489</td>\n",
       "      <td>NaN</td>\n",
       "      <td>NaN</td>\n",
       "      <td>NaN</td>\n",
       "    </tr>\n",
       "    <tr>\n",
       "      <th>3</th>\n",
       "      <td>2069-04-26</td>\n",
       "      <td>2012-08-10</td>\n",
       "      <td>66216.424</td>\n",
       "      <td>NaN</td>\n",
       "      <td>NaN</td>\n",
       "      <td>NaN</td>\n",
       "    </tr>\n",
       "    <tr>\n",
       "      <th>4</th>\n",
       "      <td>2069-05-08</td>\n",
       "      <td>2012-08-24</td>\n",
       "      <td>50815.196</td>\n",
       "      <td>NaN</td>\n",
       "      <td>NaN</td>\n",
       "      <td>NaN</td>\n",
       "    </tr>\n",
       "  </tbody>\n",
       "</table>\n",
       "</div>"
      ],
      "text/plain": [
       "  Date (Nepali) Date (English)  Balance at NRB minus CRR Prime Rate  \\\n",
       "0    2069-03-29     2012-07-13                 73959.271        NaN   \n",
       "1    2069-04-05     2012-07-20                 88835.736        NaN   \n",
       "2    2069-04-12     2012-07-27                 82056.489        NaN   \n",
       "3    2069-04-26     2012-08-10                 66216.424        NaN   \n",
       "4    2069-05-08     2012-08-24                 50815.196        NaN   \n",
       "\n",
       "  Secondary Rate Overall Rate  \n",
       "0            NaN          NaN  \n",
       "1            NaN          NaN  \n",
       "2            NaN          NaN  \n",
       "3            NaN          NaN  \n",
       "4            NaN          NaN  "
      ]
     },
     "execution_count": 4,
     "metadata": {},
     "output_type": "execute_result"
    }
   ],
   "source": [
    "df.head()"
   ]
  },
  {
   "cell_type": "code",
   "execution_count": 5,
   "id": "4b0ba59a",
   "metadata": {},
   "outputs": [
    {
     "data": {
      "text/plain": [
       "Date (Nepali)                       object\n",
       "Date (English)              datetime64[ns]\n",
       "Balance at NRB minus CRR           float64\n",
       "Prime Rate                          object\n",
       "Secondary Rate                      object\n",
       "Overall Rate                        object\n",
       "dtype: object"
      ]
     },
     "execution_count": 5,
     "metadata": {},
     "output_type": "execute_result"
    }
   ],
   "source": [
    "df.dtypes"
   ]
  },
  {
   "cell_type": "code",
   "execution_count": 6,
   "id": "ad418365",
   "metadata": {},
   "outputs": [],
   "source": [
    "df=df.drop(columns=['Date (Nepali)'])"
   ]
  },
  {
   "cell_type": "code",
   "execution_count": 7,
   "id": "d248f8d1",
   "metadata": {},
   "outputs": [],
   "source": [
    "df=df.rename(columns={\"Date (English)\":\"Date\"})"
   ]
  },
  {
   "cell_type": "code",
   "execution_count": 8,
   "id": "7aaba076",
   "metadata": {},
   "outputs": [
    {
     "data": {
      "text/html": [
       "<div>\n",
       "<style scoped>\n",
       "    .dataframe tbody tr th:only-of-type {\n",
       "        vertical-align: middle;\n",
       "    }\n",
       "\n",
       "    .dataframe tbody tr th {\n",
       "        vertical-align: top;\n",
       "    }\n",
       "\n",
       "    .dataframe thead th {\n",
       "        text-align: right;\n",
       "    }\n",
       "</style>\n",
       "<table border=\"1\" class=\"dataframe\">\n",
       "  <thead>\n",
       "    <tr style=\"text-align: right;\">\n",
       "      <th></th>\n",
       "      <th>Date</th>\n",
       "      <th>Balance at NRB minus CRR</th>\n",
       "      <th>Prime Rate</th>\n",
       "      <th>Secondary Rate</th>\n",
       "      <th>Overall Rate</th>\n",
       "    </tr>\n",
       "  </thead>\n",
       "  <tbody>\n",
       "    <tr>\n",
       "      <th>0</th>\n",
       "      <td>2012-07-13</td>\n",
       "      <td>73959.271</td>\n",
       "      <td>NaN</td>\n",
       "      <td>NaN</td>\n",
       "      <td>NaN</td>\n",
       "    </tr>\n",
       "    <tr>\n",
       "      <th>1</th>\n",
       "      <td>2012-07-20</td>\n",
       "      <td>88835.736</td>\n",
       "      <td>NaN</td>\n",
       "      <td>NaN</td>\n",
       "      <td>NaN</td>\n",
       "    </tr>\n",
       "    <tr>\n",
       "      <th>2</th>\n",
       "      <td>2012-07-27</td>\n",
       "      <td>82056.489</td>\n",
       "      <td>NaN</td>\n",
       "      <td>NaN</td>\n",
       "      <td>NaN</td>\n",
       "    </tr>\n",
       "    <tr>\n",
       "      <th>3</th>\n",
       "      <td>2012-08-10</td>\n",
       "      <td>66216.424</td>\n",
       "      <td>NaN</td>\n",
       "      <td>NaN</td>\n",
       "      <td>NaN</td>\n",
       "    </tr>\n",
       "    <tr>\n",
       "      <th>4</th>\n",
       "      <td>2012-08-24</td>\n",
       "      <td>50815.196</td>\n",
       "      <td>NaN</td>\n",
       "      <td>NaN</td>\n",
       "      <td>NaN</td>\n",
       "    </tr>\n",
       "  </tbody>\n",
       "</table>\n",
       "</div>"
      ],
      "text/plain": [
       "        Date  Balance at NRB minus CRR Prime Rate Secondary Rate Overall Rate\n",
       "0 2012-07-13                 73959.271        NaN            NaN          NaN\n",
       "1 2012-07-20                 88835.736        NaN            NaN          NaN\n",
       "2 2012-07-27                 82056.489        NaN            NaN          NaN\n",
       "3 2012-08-10                 66216.424        NaN            NaN          NaN\n",
       "4 2012-08-24                 50815.196        NaN            NaN          NaN"
      ]
     },
     "execution_count": 8,
     "metadata": {},
     "output_type": "execute_result"
    }
   ],
   "source": [
    "df.head()"
   ]
  },
  {
   "cell_type": "code",
   "execution_count": 9,
   "id": "78430c09",
   "metadata": {},
   "outputs": [],
   "source": [
    "df.columns = df.columns.str.replace(' ', '_')"
   ]
  },
  {
   "cell_type": "code",
   "execution_count": 10,
   "id": "62d65447",
   "metadata": {},
   "outputs": [
    {
     "data": {
      "text/html": [
       "<div>\n",
       "<style scoped>\n",
       "    .dataframe tbody tr th:only-of-type {\n",
       "        vertical-align: middle;\n",
       "    }\n",
       "\n",
       "    .dataframe tbody tr th {\n",
       "        vertical-align: top;\n",
       "    }\n",
       "\n",
       "    .dataframe thead th {\n",
       "        text-align: right;\n",
       "    }\n",
       "</style>\n",
       "<table border=\"1\" class=\"dataframe\">\n",
       "  <thead>\n",
       "    <tr style=\"text-align: right;\">\n",
       "      <th></th>\n",
       "      <th>Date</th>\n",
       "      <th>Balance_at_NRB_minus_CRR</th>\n",
       "      <th>Prime_Rate</th>\n",
       "      <th>Secondary_Rate</th>\n",
       "      <th>Overall_Rate</th>\n",
       "    </tr>\n",
       "  </thead>\n",
       "  <tbody>\n",
       "    <tr>\n",
       "      <th>0</th>\n",
       "      <td>2012-07-13</td>\n",
       "      <td>73959.271</td>\n",
       "      <td>NaN</td>\n",
       "      <td>NaN</td>\n",
       "      <td>NaN</td>\n",
       "    </tr>\n",
       "    <tr>\n",
       "      <th>1</th>\n",
       "      <td>2012-07-20</td>\n",
       "      <td>88835.736</td>\n",
       "      <td>NaN</td>\n",
       "      <td>NaN</td>\n",
       "      <td>NaN</td>\n",
       "    </tr>\n",
       "    <tr>\n",
       "      <th>2</th>\n",
       "      <td>2012-07-27</td>\n",
       "      <td>82056.489</td>\n",
       "      <td>NaN</td>\n",
       "      <td>NaN</td>\n",
       "      <td>NaN</td>\n",
       "    </tr>\n",
       "    <tr>\n",
       "      <th>3</th>\n",
       "      <td>2012-08-10</td>\n",
       "      <td>66216.424</td>\n",
       "      <td>NaN</td>\n",
       "      <td>NaN</td>\n",
       "      <td>NaN</td>\n",
       "    </tr>\n",
       "    <tr>\n",
       "      <th>4</th>\n",
       "      <td>2012-08-24</td>\n",
       "      <td>50815.196</td>\n",
       "      <td>NaN</td>\n",
       "      <td>NaN</td>\n",
       "      <td>NaN</td>\n",
       "    </tr>\n",
       "  </tbody>\n",
       "</table>\n",
       "</div>"
      ],
      "text/plain": [
       "        Date  Balance_at_NRB_minus_CRR Prime_Rate Secondary_Rate Overall_Rate\n",
       "0 2012-07-13                 73959.271        NaN            NaN          NaN\n",
       "1 2012-07-20                 88835.736        NaN            NaN          NaN\n",
       "2 2012-07-27                 82056.489        NaN            NaN          NaN\n",
       "3 2012-08-10                 66216.424        NaN            NaN          NaN\n",
       "4 2012-08-24                 50815.196        NaN            NaN          NaN"
      ]
     },
     "execution_count": 10,
     "metadata": {},
     "output_type": "execute_result"
    }
   ],
   "source": [
    "df.head()"
   ]
  },
  {
   "cell_type": "code",
   "execution_count": 11,
   "id": "7f14fee9",
   "metadata": {},
   "outputs": [],
   "source": [
    "df['Date']=pd.to_datetime(df['Date'])"
   ]
  },
  {
   "cell_type": "code",
   "execution_count": 12,
   "id": "a4421405",
   "metadata": {},
   "outputs": [],
   "source": [
    "df['Date']=df['Date'].dt.date"
   ]
  },
  {
   "cell_type": "code",
   "execution_count": 13,
   "id": "9b14074f",
   "metadata": {},
   "outputs": [],
   "source": [
    "df['Date']=pd.to_datetime(df['Date'])"
   ]
  },
  {
   "cell_type": "code",
   "execution_count": 14,
   "id": "6ec9d151",
   "metadata": {},
   "outputs": [],
   "source": [
    "filtered_df = df[df['Date'] > '2016-08-09']"
   ]
  },
  {
   "cell_type": "code",
   "execution_count": 15,
   "id": "ee49c172",
   "metadata": {},
   "outputs": [],
   "source": [
    "filtered_df=filtered_df.drop(columns=['Prime_Rate', 'Secondary_Rate','Overall_Rate'])"
   ]
  },
  {
   "cell_type": "code",
   "execution_count": 16,
   "id": "eb926093",
   "metadata": {},
   "outputs": [
    {
     "data": {
      "text/html": [
       "<div>\n",
       "<style scoped>\n",
       "    .dataframe tbody tr th:only-of-type {\n",
       "        vertical-align: middle;\n",
       "    }\n",
       "\n",
       "    .dataframe tbody tr th {\n",
       "        vertical-align: top;\n",
       "    }\n",
       "\n",
       "    .dataframe thead th {\n",
       "        text-align: right;\n",
       "    }\n",
       "</style>\n",
       "<table border=\"1\" class=\"dataframe\">\n",
       "  <thead>\n",
       "    <tr style=\"text-align: right;\">\n",
       "      <th></th>\n",
       "      <th>Date</th>\n",
       "      <th>Balance_at_NRB_minus_CRR</th>\n",
       "    </tr>\n",
       "  </thead>\n",
       "  <tbody>\n",
       "    <tr>\n",
       "      <th>275</th>\n",
       "      <td>2016-08-10</td>\n",
       "      <td>36101.290972</td>\n",
       "    </tr>\n",
       "    <tr>\n",
       "      <th>276</th>\n",
       "      <td>2016-08-11</td>\n",
       "      <td>31244.397186</td>\n",
       "    </tr>\n",
       "    <tr>\n",
       "      <th>277</th>\n",
       "      <td>2016-08-13</td>\n",
       "      <td>29476.080942</td>\n",
       "    </tr>\n",
       "    <tr>\n",
       "      <th>278</th>\n",
       "      <td>2016-08-14</td>\n",
       "      <td>21602.674977</td>\n",
       "    </tr>\n",
       "    <tr>\n",
       "      <th>279</th>\n",
       "      <td>2016-08-15</td>\n",
       "      <td>24527.835281</td>\n",
       "    </tr>\n",
       "  </tbody>\n",
       "</table>\n",
       "</div>"
      ],
      "text/plain": [
       "          Date  Balance_at_NRB_minus_CRR\n",
       "275 2016-08-10              36101.290972\n",
       "276 2016-08-11              31244.397186\n",
       "277 2016-08-13              29476.080942\n",
       "278 2016-08-14              21602.674977\n",
       "279 2016-08-15              24527.835281"
      ]
     },
     "execution_count": 16,
     "metadata": {},
     "output_type": "execute_result"
    }
   ],
   "source": [
    "filtered_df.head()"
   ]
  },
  {
   "cell_type": "code",
   "execution_count": 17,
   "id": "0a4e9770",
   "metadata": {},
   "outputs": [],
   "source": [
    "filtered_df=filtered_df.rename(columns={\"Date\":\"ds\",\"Balance_at_NRB_minus_CRR\":\"y\"})"
   ]
  },
  {
   "cell_type": "code",
   "execution_count": 18,
   "id": "9178acd5",
   "metadata": {},
   "outputs": [
    {
     "data": {
      "text/html": [
       "<div>\n",
       "<style scoped>\n",
       "    .dataframe tbody tr th:only-of-type {\n",
       "        vertical-align: middle;\n",
       "    }\n",
       "\n",
       "    .dataframe tbody tr th {\n",
       "        vertical-align: top;\n",
       "    }\n",
       "\n",
       "    .dataframe thead th {\n",
       "        text-align: right;\n",
       "    }\n",
       "</style>\n",
       "<table border=\"1\" class=\"dataframe\">\n",
       "  <thead>\n",
       "    <tr style=\"text-align: right;\">\n",
       "      <th></th>\n",
       "      <th>ds</th>\n",
       "      <th>y</th>\n",
       "    </tr>\n",
       "  </thead>\n",
       "  <tbody>\n",
       "    <tr>\n",
       "      <th>275</th>\n",
       "      <td>2016-08-10</td>\n",
       "      <td>36101.290972</td>\n",
       "    </tr>\n",
       "    <tr>\n",
       "      <th>276</th>\n",
       "      <td>2016-08-11</td>\n",
       "      <td>31244.397186</td>\n",
       "    </tr>\n",
       "    <tr>\n",
       "      <th>277</th>\n",
       "      <td>2016-08-13</td>\n",
       "      <td>29476.080942</td>\n",
       "    </tr>\n",
       "    <tr>\n",
       "      <th>278</th>\n",
       "      <td>2016-08-14</td>\n",
       "      <td>21602.674977</td>\n",
       "    </tr>\n",
       "    <tr>\n",
       "      <th>279</th>\n",
       "      <td>2016-08-15</td>\n",
       "      <td>24527.835281</td>\n",
       "    </tr>\n",
       "  </tbody>\n",
       "</table>\n",
       "</div>"
      ],
      "text/plain": [
       "            ds             y\n",
       "275 2016-08-10  36101.290972\n",
       "276 2016-08-11  31244.397186\n",
       "277 2016-08-13  29476.080942\n",
       "278 2016-08-14  21602.674977\n",
       "279 2016-08-15  24527.835281"
      ]
     },
     "execution_count": 18,
     "metadata": {},
     "output_type": "execute_result"
    }
   ],
   "source": [
    "filtered_df.head()"
   ]
  },
  {
   "cell_type": "code",
   "execution_count": 21,
   "id": "f580c5d0",
   "metadata": {},
   "outputs": [],
   "source": [
    "train_size = int(len(df) * 0.8)\n",
    "train, test = filtered_df[:train_size], filtered_df[train_size:]\n",
    "\n",
    "# Create the feature matrix and target vector\n",
    "X_train = train['y'].shift().dropna().to_frame()\n",
    "y_train = train['y'].shift(-1).dropna()\n",
    "X_test = test['y'].shift().dropna().to_frame()\n",
    "y_test = test['y'].shift(-1).dropna()"
   ]
  },
  {
   "cell_type": "code",
   "execution_count": 22,
   "id": "63875f98",
   "metadata": {},
   "outputs": [],
   "source": [
    "# Train the XGBoost model\n",
    "xgb = XGBRegressor(n_estimators=1000, learning_rate=0.01)\n",
    "xgb.fit(X_train, y_train)\n",
    "\n",
    "# Make predictions\n",
    "y_pred = xgb.predict(X_test)"
   ]
  },
  {
   "cell_type": "code",
   "execution_count": 24,
   "id": "d66be3c2",
   "metadata": {},
   "outputs": [
    {
     "name": "stdout",
     "output_type": "stream",
     "text": [
      "MSE: 77941500.6901, RMSE: 8828.4484, MAE: 6253.2413\n"
     ]
    }
   ],
   "source": [
    "# Evaluate the model\n",
    "mse = metrics.mean_squared_error(y_test, y_pred)\n",
    "rmse = mse**0.5\n",
    "mae = abs(y_test - y_pred).mean()\n",
    "\n",
    "print(f'MSE: {mse:.4f}, RMSE: {rmse:.4f}, MAE: {mae:.4f}')"
   ]
  },
  {
   "cell_type": "code",
   "execution_count": 25,
   "id": "4212757c",
   "metadata": {},
   "outputs": [],
   "source": [
    "def timeseries_evaluation_metrics_func(y_true, y_pred):\n",
    "    def mean_absolute_percentage_error(y_true, y_pred):\n",
    "        y_true, y_pred = np.array(y_true), np.array(y_pred)\n",
    "        return np.mean(np.abs((y_true - y_pred) / y_true)) * 100\n",
    "    print('Evaluation metric results:-')\n",
    "    print(f'MSE is : {metrics.mean_squared_error(y_true, y_pred)}')\n",
    "    print(f'MAE is : {metrics.mean_absolute_error(y_true, y_pred)}')\n",
    "    print(f'RMSE is : {np.sqrt(metrics.mean_squared_error(y_true, y_pred))}')\n",
    "    print(f'MAPE is : {mean_absolute_percentage_error(y_true,y_pred)}')\n",
    "    print(f'R2 is : {metrics.r2_score(y_true, y_pred)}',end='\\n\\n')"
   ]
  },
  {
   "cell_type": "code",
   "execution_count": 26,
   "id": "e048683b",
   "metadata": {},
   "outputs": [
    {
     "name": "stdout",
     "output_type": "stream",
     "text": [
      "Evaluation metric results:-\n",
      "MSE is : 77941500.6901486\n",
      "MAE is : 6253.24127540534\n",
      "RMSE is : 8828.448373873442\n",
      "MAPE is : 296.3817983999643\n",
      "R2 is : 0.3328718298759624\n",
      "\n"
     ]
    }
   ],
   "source": [
    "timeseries_evaluation_metrics_func(y_test,y_pred)"
   ]
  }
 ],
 "metadata": {
  "kernelspec": {
   "display_name": "Python 3 (ipykernel)",
   "language": "python",
   "name": "python3"
  },
  "language_info": {
   "codemirror_mode": {
    "name": "ipython",
    "version": 3
   },
   "file_extension": ".py",
   "mimetype": "text/x-python",
   "name": "python",
   "nbconvert_exporter": "python",
   "pygments_lexer": "ipython3",
   "version": "3.8.10"
  }
 },
 "nbformat": 4,
 "nbformat_minor": 5
}
