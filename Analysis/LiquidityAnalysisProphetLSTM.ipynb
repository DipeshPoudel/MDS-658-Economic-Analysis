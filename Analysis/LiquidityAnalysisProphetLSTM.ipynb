{
 "cells": [
  {
   "cell_type": "code",
   "execution_count": 54,
   "id": "a194b962",
   "metadata": {},
   "outputs": [
    {
     "name": "stderr",
     "output_type": "stream",
     "text": [
      "2023-05-13 09:01:06.465695: W tensorflow/stream_executor/platform/default/dso_loader.cc:64] Could not load dynamic library 'libcudart.so.11.0'; dlerror: libcudart.so.11.0: cannot open shared object file: No such file or directory\n",
      "2023-05-13 09:01:06.465753: I tensorflow/stream_executor/cuda/cudart_stub.cc:29] Ignore above cudart dlerror if you do not have a GPU set up on your machine.\n"
     ]
    }
   ],
   "source": [
    "import pandas as pd\n",
    "import numpy as np\n",
    "import matplotlib.pyplot as plt\n",
    "import seaborn as sns\n",
    "import warnings\n",
    "from sklearn import preprocessing\n",
    "import tensorflow as tf\n",
    "from sklearn import metrics\n",
    "warnings.filterwarnings(\"ignore\")\n",
    "color_pal = sns.color_palette()\n",
    "plt.style.use('fivethirtyeight')"
   ]
  },
  {
   "cell_type": "code",
   "execution_count": 38,
   "id": "7a8eded3",
   "metadata": {},
   "outputs": [],
   "source": [
    "df = pd.read_excel('Liquidity-and-interbank-rate.xlsx',\n",
    "                   sheet_name='LiquiditySeries',\n",
    "                  skiprows=[0,1,3,4,5,2642]\n",
    "                  )"
   ]
  },
  {
   "cell_type": "code",
   "execution_count": 39,
   "id": "cf65fbd2",
   "metadata": {},
   "outputs": [
    {
     "data": {
      "text/html": [
       "<div>\n",
       "<style scoped>\n",
       "    .dataframe tbody tr th:only-of-type {\n",
       "        vertical-align: middle;\n",
       "    }\n",
       "\n",
       "    .dataframe tbody tr th {\n",
       "        vertical-align: top;\n",
       "    }\n",
       "\n",
       "    .dataframe thead th {\n",
       "        text-align: right;\n",
       "    }\n",
       "</style>\n",
       "<table border=\"1\" class=\"dataframe\">\n",
       "  <thead>\n",
       "    <tr style=\"text-align: right;\">\n",
       "      <th></th>\n",
       "      <th>Date (Nepali)</th>\n",
       "      <th>Date (English)</th>\n",
       "      <th>Balance at NRB minus CRR</th>\n",
       "      <th>Prime Rate</th>\n",
       "      <th>Secondary Rate</th>\n",
       "      <th>Overall Rate</th>\n",
       "    </tr>\n",
       "  </thead>\n",
       "  <tbody>\n",
       "    <tr>\n",
       "      <th>0</th>\n",
       "      <td>2069-03-29</td>\n",
       "      <td>2012-07-13</td>\n",
       "      <td>73959.271</td>\n",
       "      <td>NaN</td>\n",
       "      <td>NaN</td>\n",
       "      <td>NaN</td>\n",
       "    </tr>\n",
       "    <tr>\n",
       "      <th>1</th>\n",
       "      <td>2069-04-05</td>\n",
       "      <td>2012-07-20</td>\n",
       "      <td>88835.736</td>\n",
       "      <td>NaN</td>\n",
       "      <td>NaN</td>\n",
       "      <td>NaN</td>\n",
       "    </tr>\n",
       "    <tr>\n",
       "      <th>2</th>\n",
       "      <td>2069-04-12</td>\n",
       "      <td>2012-07-27</td>\n",
       "      <td>82056.489</td>\n",
       "      <td>NaN</td>\n",
       "      <td>NaN</td>\n",
       "      <td>NaN</td>\n",
       "    </tr>\n",
       "    <tr>\n",
       "      <th>3</th>\n",
       "      <td>2069-04-26</td>\n",
       "      <td>2012-08-10</td>\n",
       "      <td>66216.424</td>\n",
       "      <td>NaN</td>\n",
       "      <td>NaN</td>\n",
       "      <td>NaN</td>\n",
       "    </tr>\n",
       "    <tr>\n",
       "      <th>4</th>\n",
       "      <td>2069-05-08</td>\n",
       "      <td>2012-08-24</td>\n",
       "      <td>50815.196</td>\n",
       "      <td>NaN</td>\n",
       "      <td>NaN</td>\n",
       "      <td>NaN</td>\n",
       "    </tr>\n",
       "  </tbody>\n",
       "</table>\n",
       "</div>"
      ],
      "text/plain": [
       "  Date (Nepali) Date (English)  Balance at NRB minus CRR Prime Rate  \\\n",
       "0    2069-03-29     2012-07-13                 73959.271        NaN   \n",
       "1    2069-04-05     2012-07-20                 88835.736        NaN   \n",
       "2    2069-04-12     2012-07-27                 82056.489        NaN   \n",
       "3    2069-04-26     2012-08-10                 66216.424        NaN   \n",
       "4    2069-05-08     2012-08-24                 50815.196        NaN   \n",
       "\n",
       "  Secondary Rate Overall Rate  \n",
       "0            NaN          NaN  \n",
       "1            NaN          NaN  \n",
       "2            NaN          NaN  \n",
       "3            NaN          NaN  \n",
       "4            NaN          NaN  "
      ]
     },
     "execution_count": 39,
     "metadata": {},
     "output_type": "execute_result"
    }
   ],
   "source": [
    "df.head()"
   ]
  },
  {
   "cell_type": "code",
   "execution_count": 40,
   "id": "4b0ba59a",
   "metadata": {},
   "outputs": [
    {
     "data": {
      "text/plain": [
       "Date (Nepali)                       object\n",
       "Date (English)              datetime64[ns]\n",
       "Balance at NRB minus CRR           float64\n",
       "Prime Rate                          object\n",
       "Secondary Rate                      object\n",
       "Overall Rate                        object\n",
       "dtype: object"
      ]
     },
     "execution_count": 40,
     "metadata": {},
     "output_type": "execute_result"
    }
   ],
   "source": [
    "df.dtypes"
   ]
  },
  {
   "cell_type": "code",
   "execution_count": 41,
   "id": "ad418365",
   "metadata": {},
   "outputs": [],
   "source": [
    "df=df.drop(columns=['Date (Nepali)'])"
   ]
  },
  {
   "cell_type": "code",
   "execution_count": 42,
   "id": "d248f8d1",
   "metadata": {},
   "outputs": [],
   "source": [
    "df=df.rename(columns={\"Date (English)\":\"Date\"})"
   ]
  },
  {
   "cell_type": "code",
   "execution_count": 43,
   "id": "7aaba076",
   "metadata": {},
   "outputs": [
    {
     "data": {
      "text/html": [
       "<div>\n",
       "<style scoped>\n",
       "    .dataframe tbody tr th:only-of-type {\n",
       "        vertical-align: middle;\n",
       "    }\n",
       "\n",
       "    .dataframe tbody tr th {\n",
       "        vertical-align: top;\n",
       "    }\n",
       "\n",
       "    .dataframe thead th {\n",
       "        text-align: right;\n",
       "    }\n",
       "</style>\n",
       "<table border=\"1\" class=\"dataframe\">\n",
       "  <thead>\n",
       "    <tr style=\"text-align: right;\">\n",
       "      <th></th>\n",
       "      <th>Date</th>\n",
       "      <th>Balance at NRB minus CRR</th>\n",
       "      <th>Prime Rate</th>\n",
       "      <th>Secondary Rate</th>\n",
       "      <th>Overall Rate</th>\n",
       "    </tr>\n",
       "  </thead>\n",
       "  <tbody>\n",
       "    <tr>\n",
       "      <th>0</th>\n",
       "      <td>2012-07-13</td>\n",
       "      <td>73959.271</td>\n",
       "      <td>NaN</td>\n",
       "      <td>NaN</td>\n",
       "      <td>NaN</td>\n",
       "    </tr>\n",
       "    <tr>\n",
       "      <th>1</th>\n",
       "      <td>2012-07-20</td>\n",
       "      <td>88835.736</td>\n",
       "      <td>NaN</td>\n",
       "      <td>NaN</td>\n",
       "      <td>NaN</td>\n",
       "    </tr>\n",
       "    <tr>\n",
       "      <th>2</th>\n",
       "      <td>2012-07-27</td>\n",
       "      <td>82056.489</td>\n",
       "      <td>NaN</td>\n",
       "      <td>NaN</td>\n",
       "      <td>NaN</td>\n",
       "    </tr>\n",
       "    <tr>\n",
       "      <th>3</th>\n",
       "      <td>2012-08-10</td>\n",
       "      <td>66216.424</td>\n",
       "      <td>NaN</td>\n",
       "      <td>NaN</td>\n",
       "      <td>NaN</td>\n",
       "    </tr>\n",
       "    <tr>\n",
       "      <th>4</th>\n",
       "      <td>2012-08-24</td>\n",
       "      <td>50815.196</td>\n",
       "      <td>NaN</td>\n",
       "      <td>NaN</td>\n",
       "      <td>NaN</td>\n",
       "    </tr>\n",
       "  </tbody>\n",
       "</table>\n",
       "</div>"
      ],
      "text/plain": [
       "        Date  Balance at NRB minus CRR Prime Rate Secondary Rate Overall Rate\n",
       "0 2012-07-13                 73959.271        NaN            NaN          NaN\n",
       "1 2012-07-20                 88835.736        NaN            NaN          NaN\n",
       "2 2012-07-27                 82056.489        NaN            NaN          NaN\n",
       "3 2012-08-10                 66216.424        NaN            NaN          NaN\n",
       "4 2012-08-24                 50815.196        NaN            NaN          NaN"
      ]
     },
     "execution_count": 43,
     "metadata": {},
     "output_type": "execute_result"
    }
   ],
   "source": [
    "df.head()"
   ]
  },
  {
   "cell_type": "code",
   "execution_count": 44,
   "id": "78430c09",
   "metadata": {},
   "outputs": [],
   "source": [
    "df.columns = df.columns.str.replace(' ', '_')"
   ]
  },
  {
   "cell_type": "code",
   "execution_count": 45,
   "id": "62d65447",
   "metadata": {},
   "outputs": [
    {
     "data": {
      "text/html": [
       "<div>\n",
       "<style scoped>\n",
       "    .dataframe tbody tr th:only-of-type {\n",
       "        vertical-align: middle;\n",
       "    }\n",
       "\n",
       "    .dataframe tbody tr th {\n",
       "        vertical-align: top;\n",
       "    }\n",
       "\n",
       "    .dataframe thead th {\n",
       "        text-align: right;\n",
       "    }\n",
       "</style>\n",
       "<table border=\"1\" class=\"dataframe\">\n",
       "  <thead>\n",
       "    <tr style=\"text-align: right;\">\n",
       "      <th></th>\n",
       "      <th>Date</th>\n",
       "      <th>Balance_at_NRB_minus_CRR</th>\n",
       "      <th>Prime_Rate</th>\n",
       "      <th>Secondary_Rate</th>\n",
       "      <th>Overall_Rate</th>\n",
       "    </tr>\n",
       "  </thead>\n",
       "  <tbody>\n",
       "    <tr>\n",
       "      <th>0</th>\n",
       "      <td>2012-07-13</td>\n",
       "      <td>73959.271</td>\n",
       "      <td>NaN</td>\n",
       "      <td>NaN</td>\n",
       "      <td>NaN</td>\n",
       "    </tr>\n",
       "    <tr>\n",
       "      <th>1</th>\n",
       "      <td>2012-07-20</td>\n",
       "      <td>88835.736</td>\n",
       "      <td>NaN</td>\n",
       "      <td>NaN</td>\n",
       "      <td>NaN</td>\n",
       "    </tr>\n",
       "    <tr>\n",
       "      <th>2</th>\n",
       "      <td>2012-07-27</td>\n",
       "      <td>82056.489</td>\n",
       "      <td>NaN</td>\n",
       "      <td>NaN</td>\n",
       "      <td>NaN</td>\n",
       "    </tr>\n",
       "    <tr>\n",
       "      <th>3</th>\n",
       "      <td>2012-08-10</td>\n",
       "      <td>66216.424</td>\n",
       "      <td>NaN</td>\n",
       "      <td>NaN</td>\n",
       "      <td>NaN</td>\n",
       "    </tr>\n",
       "    <tr>\n",
       "      <th>4</th>\n",
       "      <td>2012-08-24</td>\n",
       "      <td>50815.196</td>\n",
       "      <td>NaN</td>\n",
       "      <td>NaN</td>\n",
       "      <td>NaN</td>\n",
       "    </tr>\n",
       "  </tbody>\n",
       "</table>\n",
       "</div>"
      ],
      "text/plain": [
       "        Date  Balance_at_NRB_minus_CRR Prime_Rate Secondary_Rate Overall_Rate\n",
       "0 2012-07-13                 73959.271        NaN            NaN          NaN\n",
       "1 2012-07-20                 88835.736        NaN            NaN          NaN\n",
       "2 2012-07-27                 82056.489        NaN            NaN          NaN\n",
       "3 2012-08-10                 66216.424        NaN            NaN          NaN\n",
       "4 2012-08-24                 50815.196        NaN            NaN          NaN"
      ]
     },
     "execution_count": 45,
     "metadata": {},
     "output_type": "execute_result"
    }
   ],
   "source": [
    "df.head()"
   ]
  },
  {
   "cell_type": "code",
   "execution_count": 46,
   "id": "7f14fee9",
   "metadata": {},
   "outputs": [],
   "source": [
    "df['Date']=pd.to_datetime(df['Date'])"
   ]
  },
  {
   "cell_type": "code",
   "execution_count": 47,
   "id": "a4421405",
   "metadata": {},
   "outputs": [],
   "source": [
    "df['Date']=df['Date'].dt.date"
   ]
  },
  {
   "cell_type": "code",
   "execution_count": 48,
   "id": "9b14074f",
   "metadata": {},
   "outputs": [],
   "source": [
    "df['Date']=pd.to_datetime(df['Date'])"
   ]
  },
  {
   "cell_type": "code",
   "execution_count": 49,
   "id": "ee49c172",
   "metadata": {},
   "outputs": [],
   "source": [
    "df=df.drop(columns=['Prime_Rate', 'Secondary_Rate','Overall_Rate'])"
   ]
  },
  {
   "cell_type": "code",
   "execution_count": 50,
   "id": "eb926093",
   "metadata": {},
   "outputs": [
    {
     "data": {
      "text/html": [
       "<div>\n",
       "<style scoped>\n",
       "    .dataframe tbody tr th:only-of-type {\n",
       "        vertical-align: middle;\n",
       "    }\n",
       "\n",
       "    .dataframe tbody tr th {\n",
       "        vertical-align: top;\n",
       "    }\n",
       "\n",
       "    .dataframe thead th {\n",
       "        text-align: right;\n",
       "    }\n",
       "</style>\n",
       "<table border=\"1\" class=\"dataframe\">\n",
       "  <thead>\n",
       "    <tr style=\"text-align: right;\">\n",
       "      <th></th>\n",
       "      <th>Date</th>\n",
       "      <th>Balance_at_NRB_minus_CRR</th>\n",
       "    </tr>\n",
       "  </thead>\n",
       "  <tbody>\n",
       "    <tr>\n",
       "      <th>0</th>\n",
       "      <td>2012-07-13</td>\n",
       "      <td>73959.271</td>\n",
       "    </tr>\n",
       "    <tr>\n",
       "      <th>1</th>\n",
       "      <td>2012-07-20</td>\n",
       "      <td>88835.736</td>\n",
       "    </tr>\n",
       "    <tr>\n",
       "      <th>2</th>\n",
       "      <td>2012-07-27</td>\n",
       "      <td>82056.489</td>\n",
       "    </tr>\n",
       "    <tr>\n",
       "      <th>3</th>\n",
       "      <td>2012-08-10</td>\n",
       "      <td>66216.424</td>\n",
       "    </tr>\n",
       "    <tr>\n",
       "      <th>4</th>\n",
       "      <td>2012-08-24</td>\n",
       "      <td>50815.196</td>\n",
       "    </tr>\n",
       "  </tbody>\n",
       "</table>\n",
       "</div>"
      ],
      "text/plain": [
       "        Date  Balance_at_NRB_minus_CRR\n",
       "0 2012-07-13                 73959.271\n",
       "1 2012-07-20                 88835.736\n",
       "2 2012-07-27                 82056.489\n",
       "3 2012-08-10                 66216.424\n",
       "4 2012-08-24                 50815.196"
      ]
     },
     "execution_count": 50,
     "metadata": {},
     "output_type": "execute_result"
    }
   ],
   "source": [
    "df.head()"
   ]
  },
  {
   "cell_type": "code",
   "execution_count": 34,
   "id": "9e537ab4",
   "metadata": {},
   "outputs": [
    {
     "data": {
      "text/plain": [
       "Index(['Date', 'Balance_at_NRB_minus_CRR'], dtype='object')"
      ]
     },
     "execution_count": 34,
     "metadata": {},
     "output_type": "execute_result"
    }
   ],
   "source": [
    "df.columns"
   ]
  },
  {
   "cell_type": "code",
   "execution_count": 96,
   "id": "b55fed73",
   "metadata": {},
   "outputs": [],
   "source": [
    "validate = df['Balance_at_NRB_minus_CRR'].tail(15)\n",
    "# df.drop(df['Balance_at_NRB_minus_CRR'].tail(30).index,inplace=True)"
   ]
  },
  {
   "cell_type": "code",
   "execution_count": 63,
   "id": "56061eea",
   "metadata": {},
   "outputs": [
    {
     "data": {
      "text/plain": [
       "Date\n",
       "2012-07-13    73959.271\n",
       "2012-07-20    88835.736\n",
       "2012-07-27    82056.489\n",
       "2012-08-10    66216.424\n",
       "2012-08-24    50815.196\n",
       "Name: Balance_at_NRB_minus_CRR, dtype: float64"
      ]
     },
     "execution_count": 63,
     "metadata": {},
     "output_type": "execute_result"
    }
   ],
   "source": [
    "uni_data = df['Balance_at_NRB_minus_CRR']\n",
    "uni_data.index = df['Date']\n",
    "uni_data.head()"
   ]
  },
  {
   "cell_type": "code",
   "execution_count": 64,
   "id": "c2136b7a",
   "metadata": {},
   "outputs": [],
   "source": [
    "uni_data = uni_data.values\n",
    "scaler_x = preprocessing.MinMaxScaler()\n",
    "x_rescaled = scaler_x.fit_transform(uni_data.reshape(-1, 1))"
   ]
  },
  {
   "cell_type": "code",
   "execution_count": 65,
   "id": "735a2867",
   "metadata": {},
   "outputs": [],
   "source": [
    "def custom_ts_univariate_data_prep(dataset, start, end, window,horizon):\n",
    "    X = []\n",
    "    y = []\n",
    "    start = start+window\n",
    "    if end is None:\n",
    "        end=len(dataset)-horizon\n",
    "    for i in range(start,end):\n",
    "        indicesx = range(i-window, i)\n",
    "        X.append(np.reshape(dataset[indicesx], (window, 1)))\n",
    "        indicesy = range(i, i+horizon)\n",
    "        y.append(dataset[indicesy])\n",
    "    return np.array(X), np.array(y)"
   ]
  },
  {
   "cell_type": "code",
   "execution_count": 82,
   "id": "e5c1135a",
   "metadata": {},
   "outputs": [],
   "source": [
    "univar_hist_window = 30\n",
    "horizon = 15\n",
    "TRAIN_SPLIT = 2500"
   ]
  },
  {
   "cell_type": "code",
   "execution_count": 83,
   "id": "144aa362",
   "metadata": {},
   "outputs": [
    {
     "data": {
      "text/plain": [
       "(2606, 2)"
      ]
     },
     "execution_count": 83,
     "metadata": {},
     "output_type": "execute_result"
    }
   ],
   "source": [
    "df.shape"
   ]
  },
  {
   "cell_type": "code",
   "execution_count": 84,
   "id": "05a54f0b",
   "metadata": {},
   "outputs": [],
   "source": [
    "x_train_uni, y_train_uni = custom_ts_univariate_data_prep(x_rescaled, \n",
    "                                                          0, TRAIN_SPLIT,univar_hist_window, horizon)\n",
    "x_val_uni, y_val_uni = custom_ts_univariate_data_prep(x_rescaled, \n",
    "                                                      TRAIN_SPLIT, \n",
    "                                                      None,\n",
    "                                                      univar_hist_window,horizon)"
   ]
  },
  {
   "cell_type": "code",
   "execution_count": 85,
   "id": "19430ffe",
   "metadata": {},
   "outputs": [],
   "source": [
    "BATCH_SIZE = 256\n",
    "BUFFER_SIZE = 150\n",
    "train_univariate = tf.data.Dataset.from_tensor_slices((x_train_uni, y_train_uni))\n",
    "train_univariate = train_univariate.cache().shuffle(BUFFER_SIZE).batch(BATCH_SIZE).repeat()\n",
    "val_univariate = tf.data.Dataset.from_tensor_slices((x_val_uni,y_val_uni))\n",
    "val_univariate = val_univariate.batch(BATCH_SIZE).repeat()"
   ]
  },
  {
   "cell_type": "code",
   "execution_count": 86,
   "id": "5c6018fe",
   "metadata": {},
   "outputs": [],
   "source": [
    "lstm_model = tf.keras.models.Sequential([\n",
    "    tf.keras.layers.LSTM(100, input_shape=x_train_uni.shape[-2:], return_sequences=True),\n",
    "tf.keras.layers.Dropout(0.2),\n",
    "tf.keras.layers.LSTM(units=50,return_sequences=False),\n",
    "tf.keras.layers.Dropout(0.2),\n",
    "tf.keras.layers.Dense(units=horizon),\n",
    "])\n",
    "lstm_model.compile(optimizer='adam', loss='mse')"
   ]
  },
  {
   "cell_type": "code",
   "execution_count": 87,
   "id": "293fdf4d",
   "metadata": {},
   "outputs": [],
   "source": [
    "model_path = 'LSTM_Univarient_1.h5'"
   ]
  },
  {
   "cell_type": "code",
   "execution_count": 88,
   "id": "3fc8276e",
   "metadata": {},
   "outputs": [
    {
     "name": "stdout",
     "output_type": "stream",
     "text": [
      "Epoch 1/50\n",
      "100/100 [==============================] - 48s 371ms/step - loss: 0.0218 - val_loss: 0.0015\n",
      "Epoch 2/50\n",
      "100/100 [==============================] - 34s 341ms/step - loss: 0.0109 - val_loss: 0.0017\n",
      "Epoch 3/50\n",
      "100/100 [==============================] - 36s 365ms/step - loss: 0.0094 - val_loss: 0.0021\n",
      "Epoch 4/50\n",
      "100/100 [==============================] - 34s 343ms/step - loss: 0.0085 - val_loss: 0.0026\n",
      "Epoch 5/50\n",
      "100/100 [==============================] - 34s 342ms/step - loss: 0.0081 - val_loss: 0.0021\n",
      "Epoch 6/50\n",
      "100/100 [==============================] - 34s 342ms/step - loss: 0.0074 - val_loss: 0.0022\n",
      "Epoch 7/50\n",
      "100/100 [==============================] - 34s 343ms/step - loss: 0.0072 - val_loss: 0.0013\n",
      "Epoch 8/50\n",
      "100/100 [==============================] - 34s 341ms/step - loss: 0.0070 - val_loss: 0.0019\n",
      "Epoch 9/50\n",
      "100/100 [==============================] - 34s 341ms/step - loss: 0.0067 - val_loss: 0.0015\n",
      "Epoch 10/50\n",
      "100/100 [==============================] - 35s 350ms/step - loss: 0.0066 - val_loss: 0.0021\n",
      "Epoch 11/50\n",
      "100/100 [==============================] - 34s 344ms/step - loss: 0.0064 - val_loss: 0.0018\n",
      "Epoch 12/50\n",
      "100/100 [==============================] - 36s 356ms/step - loss: 0.0063 - val_loss: 0.0018\n",
      "Epoch 13/50\n",
      "100/100 [==============================] - 34s 341ms/step - loss: 0.0062 - val_loss: 0.0012\n",
      "Epoch 14/50\n",
      "100/100 [==============================] - 34s 337ms/step - loss: 0.0061 - val_loss: 0.0017\n",
      "Epoch 15/50\n",
      "100/100 [==============================] - 34s 337ms/step - loss: 0.0060 - val_loss: 0.0020\n",
      "Epoch 16/50\n",
      "100/100 [==============================] - 34s 338ms/step - loss: 0.0061 - val_loss: 0.0013\n",
      "Epoch 17/50\n",
      "100/100 [==============================] - 34s 338ms/step - loss: 0.0060 - val_loss: 0.0014\n",
      "Epoch 18/50\n",
      "100/100 [==============================] - 34s 340ms/step - loss: 0.0059 - val_loss: 0.0012\n",
      "Epoch 19/50\n",
      "100/100 [==============================] - 34s 340ms/step - loss: 0.0060 - val_loss: 0.0011\n",
      "Epoch 20/50\n",
      "100/100 [==============================] - 34s 340ms/step - loss: 0.0065 - val_loss: 9.7313e-04\n",
      "Epoch 21/50\n",
      "100/100 [==============================] - 34s 339ms/step - loss: 0.0064 - val_loss: 0.0013\n",
      "Epoch 22/50\n",
      "100/100 [==============================] - 34s 339ms/step - loss: 0.0059 - val_loss: 0.0015\n",
      "Epoch 23/50\n",
      "100/100 [==============================] - 34s 338ms/step - loss: 0.0057 - val_loss: 0.0015\n",
      "Epoch 24/50\n",
      "100/100 [==============================] - 34s 339ms/step - loss: 0.0057 - val_loss: 0.0017\n",
      "Epoch 25/50\n",
      "100/100 [==============================] - 36s 360ms/step - loss: 0.0057 - val_loss: 0.0020\n",
      "Epoch 26/50\n",
      "100/100 [==============================] - 34s 340ms/step - loss: 0.0058 - val_loss: 0.0017\n",
      "Epoch 27/50\n",
      "100/100 [==============================] - 34s 341ms/step - loss: 0.0057 - val_loss: 0.0016\n",
      "Epoch 28/50\n",
      "100/100 [==============================] - 34s 340ms/step - loss: 0.0056 - val_loss: 0.0020\n",
      "Epoch 29/50\n",
      "100/100 [==============================] - 37s 370ms/step - loss: 0.0056 - val_loss: 0.0016\n",
      "Epoch 30/50\n",
      "100/100 [==============================] - 35s 352ms/step - loss: 0.0057 - val_loss: 0.0013\n",
      "Epoch 30: early stopping\n"
     ]
    }
   ],
   "source": [
    "EVALUATION_INTERVAL = 100\n",
    "EPOCHS = 50\n",
    "history = lstm_model.fit(train_univariate, epochs=EPOCHS,steps_per_epoch=EVALUATION_INTERVAL,\n",
    "                         validation_data=val_univariate,validation_steps=50,verbose =1,\n",
    "                         callbacks =[tf.keras.callbacks.EarlyStopping(monitor='val_loss', \n",
    "                          min_delta=0, patience=10,verbose=1, mode='min'),\n",
    "                        tf.keras.callbacks.ModelCheckpoint(model_path,monitor='val_loss', \n",
    "                                                           save_best_only=True, mode='min',\n",
    "                                                           verbose=0)])"
   ]
  },
  {
   "cell_type": "code",
   "execution_count": 89,
   "id": "f90c81d9",
   "metadata": {},
   "outputs": [
    {
     "name": "stdout",
     "output_type": "stream",
     "text": [
      "Model: \"sequential_1\"\n",
      "_________________________________________________________________\n",
      " Layer (type)                Output Shape              Param #   \n",
      "=================================================================\n",
      " lstm_2 (LSTM)               (None, 30, 100)           40800     \n",
      "                                                                 \n",
      " dropout_2 (Dropout)         (None, 30, 100)           0         \n",
      "                                                                 \n",
      " lstm_3 (LSTM)               (None, 50)                30200     \n",
      "                                                                 \n",
      " dropout_3 (Dropout)         (None, 50)                0         \n",
      "                                                                 \n",
      " dense_1 (Dense)             (None, 15)                765       \n",
      "                                                                 \n",
      "=================================================================\n",
      "Total params: 71,765\n",
      "Trainable params: 71,765\n",
      "Non-trainable params: 0\n",
      "_________________________________________________________________\n"
     ]
    }
   ],
   "source": [
    "Trained_model = tf.keras.models.load_model(model_path)\n",
    "Trained_model.summary()"
   ]
  },
  {
   "cell_type": "code",
   "execution_count": 90,
   "id": "f8f34b1c",
   "metadata": {},
   "outputs": [
    {
     "data": {
      "image/png": "[encoded data removed]",
      "text/plain": [
       "<Figure size 1152x648 with 1 Axes>"
      ]
     },
     "metadata": {},
     "output_type": "display_data"
    }
   ],
   "source": [
    "plt.plot(history.history['loss'])\n",
    "plt.plot(history.history['val_loss'])\n",
    "plt.title('Model loss')\n",
    "plt.ylabel('loss')\n",
    "plt.xlabel('epoch')\n",
    "plt.legend(['train loss', 'validation loss'], loc='upper left')\n",
    "plt.rcParams[\"figure.figsize\"] = [16,9]\n",
    "plt.show()"
   ]
  },
  {
   "cell_type": "code",
   "execution_count": 91,
   "id": "4080ff13",
   "metadata": {},
   "outputs": [
    {
     "data": {
      "text/plain": [
       "array([[0.30869874, 0.31821713, 0.3110299 , 0.31028908, 0.30823532,\n",
       "        0.31980568, 0.31222928, 0.3120308 , 0.3111971 , 0.32349002,\n",
       "        0.3083245 , 0.2970986 , 0.30535465, 0.30621636, 0.28753075]],\n",
       "      dtype=float32)"
      ]
     },
     "execution_count": 91,
     "metadata": {},
     "output_type": "execute_result"
    }
   ],
   "source": [
    "uni = df['Balance_at_NRB_minus_CRR']\n",
    "validatehori = uni.tail(30)\n",
    "validatehist = validatehori.values\n",
    "scaler_val = preprocessing.MinMaxScaler()\n",
    "val_rescaled = scaler_x.fit_transform(validatehist.reshape(-1, 1))\n",
    "val_rescaled = val_rescaled.reshape((1, val_rescaled.shape[0], 1))\n",
    "Predicted_results = Trained_model.predict(val_rescaled)\n",
    "Predicted_results"
   ]
  },
  {
   "cell_type": "code",
   "execution_count": 93,
   "id": "139553c8",
   "metadata": {},
   "outputs": [
    {
     "data": {
      "text/plain": [
       "array([[3350.9028, 3503.5034, 3388.2764, 3376.3994, 3343.473 , 3528.9712,\n",
       "        3407.505 , 3404.3228, 3390.9568, 3588.0393, 3344.9026, 3164.927 ,\n",
       "        3297.2896, 3311.1047, 3011.5334]], dtype=float32)"
      ]
     },
     "execution_count": 93,
     "metadata": {},
     "output_type": "execute_result"
    }
   ],
   "source": [
    "Predicted_inver_res = scaler_x.inverse_transform(Predicted_results)\n",
    "Predicted_inver_res"
   ]
  },
  {
   "cell_type": "code",
   "execution_count": 94,
   "id": "8f6a6804",
   "metadata": {},
   "outputs": [],
   "source": [
    "def timeseries_evaluation_metrics_func(y_true, y_pred):\n",
    "    def mean_absolute_percentage_error(y_true, y_pred):\n",
    "        y_true, y_pred = np.array(y_true), np.array(y_pred)\n",
    "        return np.mean(np.abs((y_true - y_pred) / y_true)) * 100\n",
    "    print('Evaluation metric results:-')\n",
    "    print(f'MSE is : {metrics.mean_squared_error(y_true, y_pred)}')\n",
    "    print(f'MAE is : {metrics.mean_absolute_error(y_true, y_pred)}')\n",
    "    print(f'RMSE is : {np.sqrt(metrics.mean_squared_error(y_true, y_pred))}')\n",
    "    print(f'MAPE is : {mean_absolute_percentage_error(y_true,y_pred)}')\n",
    "    print(f'R2 is : {metrics.r2_score(y_true, y_pred)}',end='\\n\\n')"
   ]
  },
  {
   "cell_type": "code",
   "execution_count": 97,
   "id": "57b1df7d",
   "metadata": {},
   "outputs": [
    {
     "name": "stdout",
     "output_type": "stream",
     "text": [
      "Evaluation metric results:-\n",
      "MSE is : 22406664.48658466\n",
      "MAE is : 3967.4377701495046\n",
      "RMSE is : 4733.567839017907\n",
      "MAPE is : 46.37209002678054\n",
      "R2 is : -2.105851128230904\n",
      "\n"
     ]
    }
   ],
   "source": [
    "timeseries_evaluation_metrics_func(validate,Predicted_inver_res[0])"
   ]
  }
 ],
 "metadata": {
  "kernelspec": {
   "display_name": "Python 3 (ipykernel)",
   "language": "python",
   "name": "python3"
  },
  "language_info": {
   "codemirror_mode": {
    "name": "ipython",
    "version": 3
   },
   "file_extension": ".py",
   "mimetype": "text/x-python",
   "name": "python",
   "nbconvert_exporter": "python",
   "pygments_lexer": "ipython3",
   "version": "3.8.10"
  }
 },
 "nbformat": 4,
 "nbformat_minor": 5
}
